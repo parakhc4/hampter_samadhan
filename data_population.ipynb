{
 "cells": [
  {
   "cell_type": "code",
   "execution_count": 45,
   "metadata": {},
   "outputs": [],
   "source": [
    "import sqlite3\n",
    "import random\n",
    "import pymysql\n",
    "\n",
    "timeout = 10\n",
    "\n",
    "connection = pymysql.connect(\n",
    "  charset=\"utf8mb4\",\n",
    "  connect_timeout=timeout,\n",
    "  cursorclass=pymysql.cursors.DictCursor,\n",
    "  db=\"doctors_database\",\n",
    "  host=\"mysql-samadhan-parakhc4.b.aivencloud.com\",\n",
    "  password=\"AVNS_iy-fKKvQNt-u1-gHDcW\",\n",
    "  read_timeout=timeout,\n",
    "  port=12945,\n",
    "  user=\"avnadmin\",\n",
    "  write_timeout=timeout,\n",
    ")\n",
    "\n",
    "conn = sqlite3.connect('doctors.db')\n",
    "cursor = conn.cursor()"
   ]
  },
  {
   "cell_type": "code",
   "execution_count": 42,
   "metadata": {},
   "outputs": [
    {
     "data": {
      "text/plain": [
       "<sqlite3.Cursor at 0x111a441c0>"
      ]
     },
     "execution_count": 42,
     "metadata": {},
     "output_type": "execute_result"
    }
   ],
   "source": [
    "\n",
    "# Create table\n",
    "cursor.execute('''\n",
    "CREATE TABLE IF NOT EXISTS doctors (\n",
    "    id INTEGER PRIMARY KEY,\n",
    "    name TEXT,\n",
    "    specialization TEXT,\n",
    "    latitude REAL,\n",
    "    longitude REAL,\n",
    "    address TEXT,\n",
    "    contact TEXT\n",
    ")\n",
    "''')"
   ]
  },
  {
   "cell_type": "code",
   "execution_count": 43,
   "metadata": {},
   "outputs": [],
   "source": [
    "\n",
    "# Mock data generation\n",
    "indian_names = [\n",
    "    \"Dr. Aditi Sharma\", \"Dr. Rajesh Kumar\", \"Dr. Priya Gupta\", \"Dr. Ravi Verma\", \"Dr. Sunita Chauhan\",\n",
    "    \"Dr. Anil Mehta\", \"Dr. Neha Jain\", \"Dr. Suresh Agarwal\", \"Dr. Pooja Singh\", \"Dr. Karan Das\",\n",
    "    \"Dr. Manish Pandey\", \"Dr. Anjali Joshi\", \"Dr. Mohan Rao\", \"Dr. Kavita Reddy\", \"Dr. Ramesh Patel\",\n",
    "    \"Dr. Swati Mishra\", \"Dr. Nitin Bhatia\", \"Dr. Meera Iyer\", \"Dr. Sanjay Chawla\", \"Dr. Deepa Goyal\"\n",
    "]\n",
    "\n",
    "specializations = [\n",
    "    \"Cardiologist\", \"Dermatologist\", \"Pediatrician\", \"Neurologist\", \"Orthopedic Surgeon\",\n",
    "    \"General Physician\", \"Gynecologist\", \"Psychiatrist\", \"ENT Specialist\", \"Dentist\"\n",
    "]\n",
    "\n",
    "addresses = [\n",
    "    \"Arera Colony, Bhopal\", \"MP Nagar, Bhopal\", \"BHEL Township, Bhopal\", \"Shahpura, Bhopal\",\n",
    "    \"Kolar Road, Bhopal\", \"TT Nagar, Bhopal\", \"Chuna Bhatti, Bhopal\", \"Indrapuri, Bhopal\",\n",
    "    \"Karond, Bhopal\", \"Ayodhya Nagar, Bhopal\", \"Hoshangabad Road, Bhopal\", \"Bagh Sewania, Bhopal\",\n",
    "    \"Habibganj, Bhopal\", \"New Market, Bhopal\", \"Piplani, Bhopal\", \"Jawahar Chowk, Bhopal\",\n",
    "    \"Ashoka Garden, Bhopal\", \"Kamla Nagar, Bhopal\", \"Vishnu Heights, Bhopal\", \"Gulmohar, Bhopal\"\n",
    "]\n",
    "\n",
    "# Direct data insertion loop\n",
    "for i in range(1, 101):  # 100 entries\n",
    "    name = random.choice(indian_names)\n",
    "    specialization = random.choice(specializations)\n",
    "    latitude = round(23.2599 + random.uniform(-0.05, 0.05), 6)  # Latitude around Bhopal\n",
    "    longitude = round(77.4126 + random.uniform(-0.05, 0.05), 6)  # Longitude around Bhopal\n",
    "    address = random.choice(addresses)\n",
    "    contact = f\"{random.randint(7000000000, 9999999999)}\"\n",
    "    cursor.execute(f'''\n",
    "        INSERT INTO doctors (id, name, specialization, latitude, longitude, address, contact)\n",
    "        VALUES ({i}, \"{name}\", \"{specialization}\", {latitude}, {longitude}, \"{address}\", \"{contact}\")\n",
    "    ''')\n",
    "\n",
    "conn.commit()\n"
   ]
  },
  {
   "cell_type": "code",
   "execution_count": 46,
   "metadata": {},
   "outputs": [
    {
     "name": "stdout",
     "output_type": "stream",
     "text": [
      "[(1, 'Dr. Kavita Reddy', 'Neurologist', 23.300077, 77.417708, 'Piplani, Bhopal', '8450373904'), (2, 'Dr. Anil Mehta', 'ENT Specialist', 23.260069, 77.389231, 'Kolar Road, Bhopal', '9932859851'), (3, 'Dr. Priya Gupta', 'Gynecologist', 23.245058, 77.363046, 'Karond, Bhopal', '7783277151'), (4, 'Dr. Manish Pandey', 'General Physician', 23.237421, 77.386705, 'Ashoka Garden, Bhopal', '7106860733'), (5, 'Dr. Anil Mehta', 'Cardiologist', 23.278861, 77.406445, 'Ashoka Garden, Bhopal', '9309498164'), (6, 'Dr. Sunita Chauhan', 'Dermatologist', 23.218542, 77.395192, 'Jawahar Chowk, Bhopal', '7641729454'), (7, 'Dr. Neha Jain', 'Dermatologist', 23.279802, 77.426403, 'BHEL Township, Bhopal', '7536030255'), (8, 'Dr. Sanjay Chawla', 'Dermatologist', 23.216059, 77.401362, 'Indrapuri, Bhopal', '9362659102'), (9, 'Dr. Priya Gupta', 'Cardiologist', 23.217084, 77.455468, 'Gulmohar, Bhopal', '7963396005'), (10, 'Dr. Anjali Joshi', 'Cardiologist', 23.289317, 77.41079, 'Arera Colony, Bhopal', '7435683492'), (11, 'Dr. Karan Das', 'General Physician', 23.245534, 77.397489, 'Shahpura, Bhopal', '9384057060'), (12, 'Dr. Sunita Chauhan', 'Dermatologist', 23.219562, 77.422126, 'Chuna Bhatti, Bhopal', '8473709678'), (13, 'Dr. Sanjay Chawla', 'Dermatologist', 23.215719, 77.409757, 'TT Nagar, Bhopal', '9434008519'), (14, 'Dr. Sunita Chauhan', 'Neurologist', 23.306071, 77.451442, 'Karond, Bhopal', '7499749949'), (15, 'Dr. Deepa Goyal', 'Cardiologist', 23.284336, 77.435658, 'Kolar Road, Bhopal', '7981854287'), (16, 'Dr. Suresh Agarwal', 'Neurologist', 23.260121, 77.433401, 'Piplani, Bhopal', '9113170156'), (17, 'Dr. Deepa Goyal', 'Cardiologist', 23.251341, 77.366547, 'Kamla Nagar, Bhopal', '8927732697'), (18, 'Dr. Nitin Bhatia', 'Dermatologist', 23.226593, 77.367745, 'Shahpura, Bhopal', '9062045733'), (19, 'Dr. Sunita Chauhan', 'Gynecologist', 23.242036, 77.427225, 'Jawahar Chowk, Bhopal', '9516946451'), (20, 'Dr. Pooja Singh', 'Dermatologist', 23.288824, 77.42664, 'Gulmohar, Bhopal', '9996335973'), (21, 'Dr. Manish Pandey', 'Dentist', 23.260952, 77.379533, 'Kamla Nagar, Bhopal', '9769819283'), (22, 'Dr. Anil Mehta', 'Dentist', 23.251137, 77.449238, 'Kolar Road, Bhopal', '8161322513'), (23, 'Dr. Nitin Bhatia', 'General Physician', 23.277373, 77.450471, 'Karond, Bhopal', '7174569900'), (24, 'Dr. Sanjay Chawla', 'Neurologist', 23.239075, 77.415031, 'Arera Colony, Bhopal', '9278619420'), (25, 'Dr. Suresh Agarwal', 'Gynecologist', 23.309662, 77.441884, 'BHEL Township, Bhopal', '8402528254'), (26, 'Dr. Priya Gupta', 'Dermatologist', 23.247427, 77.429031, 'Ayodhya Nagar, Bhopal', '8534254893'), (27, 'Dr. Manish Pandey', 'ENT Specialist', 23.241099, 77.399016, 'Vishnu Heights, Bhopal', '7569324719'), (28, 'Dr. Aditi Sharma', 'General Physician', 23.228078, 77.396805, 'Arera Colony, Bhopal', '7216062622'), (29, 'Dr. Ramesh Patel', 'Psychiatrist', 23.213689, 77.448173, 'Piplani, Bhopal', '7940174150'), (30, 'Dr. Priya Gupta', 'Psychiatrist', 23.228203, 77.434329, 'Ashoka Garden, Bhopal', '8586090987'), (31, 'Dr. Anil Mehta', 'Pediatrician', 23.257488, 77.39161, 'Ashoka Garden, Bhopal', '9028068523'), (32, 'Dr. Sunita Chauhan', 'Dentist', 23.304101, 77.444766, 'Habibganj, Bhopal', '7849950350'), (33, 'Dr. Manish Pandey', 'Neurologist', 23.220534, 77.446694, 'Kamla Nagar, Bhopal', '8355570902'), (34, 'Dr. Neha Jain', 'Dermatologist', 23.278965, 77.382544, 'Ayodhya Nagar, Bhopal', '7920204205'), (35, 'Dr. Sanjay Chawla', 'Orthopedic Surgeon', 23.236459, 77.442877, 'New Market, Bhopal', '7269399736'), (36, 'Dr. Suresh Agarwal', 'Cardiologist', 23.291468, 77.429559, 'Hoshangabad Road, Bhopal', '9130118882'), (37, 'Dr. Anil Mehta', 'Neurologist', 23.304467, 77.448995, 'TT Nagar, Bhopal', '7897266867'), (38, 'Dr. Karan Das', 'Pediatrician', 23.280979, 77.40433, 'Ayodhya Nagar, Bhopal', '7163776673'), (39, 'Dr. Neha Jain', 'Psychiatrist', 23.228234, 77.366029, 'Chuna Bhatti, Bhopal', '9591994625'), (40, 'Dr. Manish Pandey', 'ENT Specialist', 23.232706, 77.457175, 'Ayodhya Nagar, Bhopal', '9257226782'), (41, 'Dr. Priya Gupta', 'Neurologist', 23.259622, 77.376323, 'Kolar Road, Bhopal', '9859214229'), (42, 'Dr. Nitin Bhatia', 'General Physician', 23.248461, 77.453979, 'New Market, Bhopal', '8318196649'), (43, 'Dr. Nitin Bhatia', 'Pediatrician', 23.306808, 77.438544, 'MP Nagar, Bhopal', '8961811233'), (44, 'Dr. Nitin Bhatia', 'General Physician', 23.28757, 77.415136, 'Hoshangabad Road, Bhopal', '7263024268'), (45, 'Dr. Sanjay Chawla', 'Dermatologist', 23.30209, 77.384735, 'Chuna Bhatti, Bhopal', '7852968411'), (46, 'Dr. Sanjay Chawla', 'Gynecologist', 23.304737, 77.402677, 'Bagh Sewania, Bhopal', '8375210643'), (47, 'Dr. Neha Jain', 'Pediatrician', 23.25732, 77.36927, 'BHEL Township, Bhopal', '7028764607'), (48, 'Dr. Neha Jain', 'Cardiologist', 23.240596, 77.431315, 'Shahpura, Bhopal', '8411395505'), (49, 'Dr. Sunita Chauhan', 'ENT Specialist', 23.239383, 77.450861, 'Indrapuri, Bhopal', '7435788012'), (50, 'Dr. Ravi Verma', 'Pediatrician', 23.3063, 77.414342, 'Piplani, Bhopal', '7731198511'), (51, 'Dr. Manish Pandey', 'ENT Specialist', 23.266016, 77.388388, 'Habibganj, Bhopal', '9421246606'), (52, 'Dr. Deepa Goyal', 'Cardiologist', 23.294482, 77.377573, 'MP Nagar, Bhopal', '7046947776'), (53, 'Dr. Manish Pandey', 'Neurologist', 23.212155, 77.458146, 'Arera Colony, Bhopal', '9210442326'), (54, 'Dr. Karan Das', 'Pediatrician', 23.216203, 77.434353, 'Kolar Road, Bhopal', '9090729394'), (55, 'Dr. Aditi Sharma', 'General Physician', 23.265357, 77.394097, 'Shahpura, Bhopal', '9995668191'), (56, 'Dr. Nitin Bhatia', 'Orthopedic Surgeon', 23.236416, 77.406835, 'New Market, Bhopal', '8359951624'), (57, 'Dr. Sanjay Chawla', 'Neurologist', 23.211091, 77.423013, 'Habibganj, Bhopal', '8504672577'), (58, 'Dr. Swati Mishra', 'Neurologist', 23.217468, 77.381407, 'Hoshangabad Road, Bhopal', '9709226008'), (59, 'Dr. Sunita Chauhan', 'Psychiatrist', 23.217848, 77.438191, 'Shahpura, Bhopal', '8013544774'), (60, 'Dr. Sanjay Chawla', 'Cardiologist', 23.258535, 77.432116, 'TT Nagar, Bhopal', '7027276006'), (61, 'Dr. Suresh Agarwal', 'Pediatrician', 23.285348, 77.38467, 'TT Nagar, Bhopal', '9493632082'), (62, 'Dr. Mohan Rao', 'Dermatologist', 23.233954, 77.371276, 'Ayodhya Nagar, Bhopal', '8513341089'), (63, 'Dr. Aditi Sharma', 'Gynecologist', 23.281863, 77.39495, 'Hoshangabad Road, Bhopal', '7902189993'), (64, 'Dr. Meera Iyer', 'General Physician', 23.289369, 77.445476, 'Arera Colony, Bhopal', '9785016985'), (65, 'Dr. Priya Gupta', 'ENT Specialist', 23.227934, 77.422427, 'New Market, Bhopal', '8657989055'), (66, 'Dr. Ramesh Patel', 'General Physician', 23.237457, 77.415241, 'Jawahar Chowk, Bhopal', '7754223882'), (67, 'Dr. Ramesh Patel', 'Pediatrician', 23.241828, 77.383362, 'Gulmohar, Bhopal', '9100897483'), (68, 'Dr. Anjali Joshi', 'ENT Specialist', 23.27302, 77.39179, 'Ashoka Garden, Bhopal', '8162554623'), (69, 'Dr. Deepa Goyal', 'ENT Specialist', 23.211787, 77.447252, 'Kolar Road, Bhopal', '8945561385'), (70, 'Dr. Swati Mishra', 'Dermatologist', 23.280691, 77.411626, 'Hoshangabad Road, Bhopal', '7854338987'), (71, 'Dr. Karan Das', 'ENT Specialist', 23.236313, 77.41115, 'New Market, Bhopal', '8141854142'), (72, 'Dr. Ramesh Patel', 'Pediatrician', 23.30074, 77.411386, 'Vishnu Heights, Bhopal', '8600076472'), (73, 'Dr. Aditi Sharma', 'Orthopedic Surgeon', 23.269889, 77.41312, 'Kolar Road, Bhopal', '9314046868'), (74, 'Dr. Rajesh Kumar', 'Orthopedic Surgeon', 23.288576, 77.406741, 'Shahpura, Bhopal', '7840486313'), (75, 'Dr. Deepa Goyal', 'Dermatologist', 23.308548, 77.392853, 'Bagh Sewania, Bhopal', '8073473351'), (76, 'Dr. Kavita Reddy', 'Pediatrician', 23.250027, 77.423507, 'MP Nagar, Bhopal', '7410018350'), (77, 'Dr. Anil Mehta', 'Dentist', 23.271056, 77.383069, 'Indrapuri, Bhopal', '8673128326'), (78, 'Dr. Nitin Bhatia', 'ENT Specialist', 23.247689, 77.440782, 'Bagh Sewania, Bhopal', '9571480916'), (79, 'Dr. Neha Jain', 'Psychiatrist', 23.25549, 77.366839, 'Karond, Bhopal', '8196125313'), (80, 'Dr. Mohan Rao', 'Psychiatrist', 23.213452, 77.410769, 'Kolar Road, Bhopal', '7328308813'), (81, 'Dr. Ramesh Patel', 'General Physician', 23.261025, 77.447853, 'Ashoka Garden, Bhopal', '8647554174'), (82, 'Dr. Anjali Joshi', 'General Physician', 23.253533, 77.377728, 'Chuna Bhatti, Bhopal', '9321468485'), (83, 'Dr. Anil Mehta', 'ENT Specialist', 23.296121, 77.439509, 'Ashoka Garden, Bhopal', '7915369133'), (84, 'Dr. Suresh Agarwal', 'Neurologist', 23.244282, 77.418338, 'Hoshangabad Road, Bhopal', '8695199255'), (85, 'Dr. Suresh Agarwal', 'Gynecologist', 23.273822, 77.455577, 'New Market, Bhopal', '7202492801'), (86, 'Dr. Ravi Verma', 'Cardiologist', 23.291088, 77.387066, 'Shahpura, Bhopal', '7653851333'), (87, 'Dr. Neha Jain', 'Dentist', 23.271459, 77.377096, 'New Market, Bhopal', '8378356431'), (88, 'Dr. Neha Jain', 'Cardiologist', 23.306256, 77.434829, 'Karond, Bhopal', '9673906751'), (89, 'Dr. Karan Das', 'Dentist', 23.273428, 77.364242, 'TT Nagar, Bhopal', '8351856218'), (90, 'Dr. Sunita Chauhan', 'Neurologist', 23.24322, 77.414365, 'Ashoka Garden, Bhopal', '9207031087'), (91, 'Dr. Neha Jain', 'General Physician', 23.277209, 77.431714, 'Jawahar Chowk, Bhopal', '7370612749'), (92, 'Dr. Meera Iyer', 'Gynecologist', 23.277267, 77.379699, 'TT Nagar, Bhopal', '7071186955'), (93, 'Dr. Neha Jain', 'Pediatrician', 23.226928, 77.380769, 'Piplani, Bhopal', '8723646337'), (94, 'Dr. Sunita Chauhan', 'Dermatologist', 23.264562, 77.397796, 'Habibganj, Bhopal', '9584792841'), (95, 'Dr. Sunita Chauhan', 'Dentist', 23.261779, 77.456401, 'Shahpura, Bhopal', '9651376538'), (96, 'Dr. Aditi Sharma', 'Gynecologist', 23.242201, 77.425032, 'Indrapuri, Bhopal', '9207152925'), (97, 'Dr. Suresh Agarwal', 'Neurologist', 23.272046, 77.409829, 'Hoshangabad Road, Bhopal', '7008423696'), (98, 'Dr. Sanjay Chawla', 'Pediatrician', 23.281914, 77.419044, 'MP Nagar, Bhopal', '8578610007'), (99, 'Dr. Manish Pandey', 'ENT Specialist', 23.278409, 77.432271, 'MP Nagar, Bhopal', '9800717136'), (100, 'Dr. Manish Pandey', 'General Physician', 23.227035, 77.418351, 'Kamla Nagar, Bhopal', '8807876464')]\n"
     ]
    }
   ],
   "source": [
    "cursor.execute('''SELECT * FROM doctors;''');\n",
    "\n",
    "rows = cursor.fetchall()\n",
    "for row in rows:\n",
    "    print(row)"
   ]
  }
 ],
 "metadata": {
  "kernelspec": {
   "display_name": "chaenv",
   "language": "python",
   "name": "python3"
  },
  "language_info": {
   "codemirror_mode": {
    "name": "ipython",
    "version": 3
   },
   "file_extension": ".py",
   "mimetype": "text/x-python",
   "name": "python",
   "nbconvert_exporter": "python",
   "pygments_lexer": "ipython3",
   "version": "3.11.7"
  }
 },
 "nbformat": 4,
 "nbformat_minor": 2
}
