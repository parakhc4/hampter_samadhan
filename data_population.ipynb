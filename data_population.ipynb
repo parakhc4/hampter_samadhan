{
 "cells": [
  {
   "cell_type": "code",
   "execution_count": 45,
   "metadata": {},
   "outputs": [],
   "source": [
    "import sqlite3\n",
    "import random\n",
    "import pymysql\n",
    "\n",
    "timeout = 10\n",
    "\n",
    "connection = pymysql.connect(\n",
    "  charset=\"utf8mb4\",\n",
    "  connect_timeout=timeout,\n",
    "  cursorclass=pymysql.cursors.DictCursor,\n",
    "  db=\"doctors_database\",\n",
    "  host=\"mysql-samadhan-parakhc4.b.aivencloud.com\",\n",
    "  password=\"AVNS_iy-fKKvQNt-u1-gHDcW\",\n",
    "  read_timeout=timeout,\n",
    "  port=12945,\n",
    "  user=\"avnadmin\",\n",
    "  write_timeout=timeout,\n",
    ")\n",
    "\n",
    "conn = sqlite3.connect('doctors.db')\n",
    "cursor = conn.cursor()"
   ]
  },
  {
   "cell_type": "code",
   "execution_count": 42,
   "metadata": {},
   "outputs": [
    {
     "data": {
      "text/plain": [
       "<sqlite3.Cursor at 0x111a441c0>"
      ]
     },
     "execution_count": 42,
     "metadata": {},
     "output_type": "execute_result"
    }
   ],
   "source": [
    "\n",
    "# Create table\n",
    "cursor.execute('''\n",
    "CREATE TABLE IF NOT EXISTS doctors (\n",
    "    id INTEGER PRIMARY KEY,\n",
    "    name TEXT,\n",
    "    specialization TEXT,\n",
    "    latitude REAL,\n",
    "    longitude REAL,\n",
    "    address TEXT,\n",
    "    contact TEXT\n",
    ")\n",
    "''')"
   ]
  },
  {
   "cell_type": "code",
   "execution_count": 43,
   "metadata": {},
   "outputs": [],
   "source": [
    "\n",
    "# Mock data generation\n",
    "indian_names = [\n",
    "    \"Dr. Aditi Sharma\", \"Dr. Rajesh Kumar\", \"Dr. Priya Gupta\", \"Dr. Ravi Verma\", \"Dr. Sunita Chauhan\",\n",
    "    \"Dr. Anil Mehta\", \"Dr. Neha Jain\", \"Dr. Suresh Agarwal\", \"Dr. Pooja Singh\", \"Dr. Karan Das\",\n",
    "    \"Dr. Manish Pandey\", \"Dr. Anjali Joshi\", \"Dr. Mohan Rao\", \"Dr. Kavita Reddy\", \"Dr. Ramesh Patel\",\n",
    "    \"Dr. Swati Mishra\", \"Dr. Nitin Bhatia\", \"Dr. Meera Iyer\", \"Dr. Sanjay Chawla\", \"Dr. Deepa Goyal\"\n",
    "]\n",
    "\n",
    "specializations = [\n",
    "    \"Cardiologist\", \"Dermatologist\", \"Pediatrician\", \"Neurologist\", \"Orthopedic Surgeon\",\n",
    "    \"General Physician\", \"Gynecologist\", \"Psychiatrist\", \"ENT Specialist\", \"Dentist\"\n",
    "]\n",
    "\n",
    "addresses = [\n",
    "    \"Arera Colony, Bhopal\", \"MP Nagar, Bhopal\", \"BHEL Township, Bhopal\", \"Shahpura, Bhopal\",\n",
    "    \"Kolar Road, Bhopal\", \"TT Nagar, Bhopal\", \"Chuna Bhatti, Bhopal\", \"Indrapuri, Bhopal\",\n",
    "    \"Karond, Bhopal\", \"Ayodhya Nagar, Bhopal\", \"Hoshangabad Road, Bhopal\", \"Bagh Sewania, Bhopal\",\n",
    "    \"Habibganj, Bhopal\", \"New Market, Bhopal\", \"Piplani, Bhopal\", \"Jawahar Chowk, Bhopal\",\n",
    "    \"Ashoka Garden, Bhopal\", \"Kamla Nagar, Bhopal\", \"Vishnu Heights, Bhopal\", \"Gulmohar, Bhopal\"\n",
    "]\n",
    "\n",
    "# Direct data insertion loop\n",
    "for i in range(1, 101):  # 100 entries\n",
    "    name = random.choice(indian_names)\n",
    "    specialization = random.choice(specializations)\n",
    "    latitude = round(23.2599 + random.uniform(-0.05, 0.05), 6)  # Latitude around Bhopal\n",
    "    longitude = round(77.4126 + random.uniform(-0.05, 0.05), 6)  # Longitude around Bhopal\n",
    "    address = random.choice(addresses)\n",
    "    contact = f\"{random.randint(7000000000, 9999999999)}\"\n",
    "    cursor.execute(f'''\n",
    "        INSERT INTO doctors (id, name, specialization, latitude, longitude, address, contact)\n",
    "        VALUES ({i}, \"{name}\", \"{specialization}\", {latitude}, {longitude}, \"{address}\", \"{contact}\")\n",
    "    ''')\n",
    "\n",
    "conn.commit()\n"
   ]
  },
  {
   "cell_type": "code",
   "execution_count": 48,
   "metadata": {},
   "outputs": [
    {
     "name": "stdout",
     "output_type": "stream",
     "text": [
      "(3, 'Dr. Priya Gupta', 'Gynecologist', 23.245058, 77.363046, 'Karond, Bhopal', '7783277151')\n",
      "(19, 'Dr. Sunita Chauhan', 'Gynecologist', 23.242036, 77.427225, 'Jawahar Chowk, Bhopal', '9516946451')\n",
      "(25, 'Dr. Suresh Agarwal', 'Gynecologist', 23.309662, 77.441884, 'BHEL Township, Bhopal', '8402528254')\n",
      "(46, 'Dr. Sanjay Chawla', 'Gynecologist', 23.304737, 77.402677, 'Bagh Sewania, Bhopal', '8375210643')\n",
      "(63, 'Dr. Aditi Sharma', 'Gynecologist', 23.281863, 77.39495, 'Hoshangabad Road, Bhopal', '7902189993')\n",
      "(85, 'Dr. Suresh Agarwal', 'Gynecologist', 23.273822, 77.455577, 'New Market, Bhopal', '7202492801')\n",
      "(92, 'Dr. Meera Iyer', 'Gynecologist', 23.277267, 77.379699, 'TT Nagar, Bhopal', '7071186955')\n",
      "(96, 'Dr. Aditi Sharma', 'Gynecologist', 23.242201, 77.425032, 'Indrapuri, Bhopal', '9207152925')\n"
     ]
    }
   ],
   "source": [
    "cursor.execute('''SELECT * FROM doctors;''');\n",
    "\n",
    "rows = cursor.fetchall()\n",
    "for row in rows:\n",
    "    print(row)"
   ]
  }
 ],
 "metadata": {
  "kernelspec": {
   "display_name": "chaenv",
   "language": "python",
   "name": "python3"
  },
  "language_info": {
   "codemirror_mode": {
    "name": "ipython",
    "version": 3
   },
   "file_extension": ".py",
   "mimetype": "text/x-python",
   "name": "python",
   "nbconvert_exporter": "python",
   "pygments_lexer": "ipython3",
   "version": "3.11.7"
  }
 },
 "nbformat": 4,
 "nbformat_minor": 2
}
